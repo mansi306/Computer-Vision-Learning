{
 "cells": [
  {
   "cell_type": "code",
   "execution_count": 1,
   "id": "94e5295a",
   "metadata": {},
   "outputs": [],
   "source": [
    "import numpy as np"
   ]
  },
  {
   "cell_type": "code",
   "execution_count": 2,
   "id": "f35e963c",
   "metadata": {},
   "outputs": [],
   "source": [
    "x = [1,2,3,4,5]\n"
   ]
  },
  {
   "cell_type": "code",
   "execution_count": 3,
   "id": "f523b74c",
   "metadata": {},
   "outputs": [
    {
     "data": {
      "text/plain": [
       "list"
      ]
     },
     "execution_count": 3,
     "metadata": {},
     "output_type": "execute_result"
    }
   ],
   "source": [
    "type(x)"
   ]
  },
  {
   "cell_type": "code",
   "execution_count": 4,
   "id": "7244bf65",
   "metadata": {},
   "outputs": [],
   "source": [
    "arr = np.array(x)"
   ]
  },
  {
   "cell_type": "code",
   "execution_count": 5,
   "id": "bd57d25a",
   "metadata": {},
   "outputs": [
    {
     "data": {
      "text/plain": [
       "numpy.ndarray"
      ]
     },
     "execution_count": 5,
     "metadata": {},
     "output_type": "execute_result"
    }
   ],
   "source": [
    "type(arr)"
   ]
  },
  {
   "cell_type": "code",
   "execution_count": 6,
   "id": "abce47ae",
   "metadata": {},
   "outputs": [
    {
     "data": {
      "text/plain": [
       "array([ 1,  2,  3,  4,  5,  6,  7,  8,  9, 10])"
      ]
     },
     "execution_count": 6,
     "metadata": {},
     "output_type": "execute_result"
    }
   ],
   "source": [
    "np.arange(1,11)"
   ]
  },
  {
   "cell_type": "code",
   "execution_count": 7,
   "id": "1c2f4406",
   "metadata": {},
   "outputs": [
    {
     "data": {
      "text/plain": [
       "array([ 0,  2,  4,  6,  8, 10])"
      ]
     },
     "execution_count": 7,
     "metadata": {},
     "output_type": "execute_result"
    }
   ],
   "source": [
    "np.arange(0,11,2)"
   ]
  },
  {
   "cell_type": "code",
   "execution_count": 8,
   "id": "2aa857ae",
   "metadata": {},
   "outputs": [
    {
     "data": {
      "text/plain": [
       "array([[0., 0.],\n",
       "       [0., 0.]])"
      ]
     },
     "execution_count": 8,
     "metadata": {},
     "output_type": "execute_result"
    }
   ],
   "source": [
    "np.zeros((2,2))"
   ]
  },
  {
   "cell_type": "code",
   "execution_count": 9,
   "id": "3688c680",
   "metadata": {},
   "outputs": [
    {
     "data": {
      "text/plain": [
       "array([[1., 1., 1., 1., 1.],\n",
       "       [1., 1., 1., 1., 1.]])"
      ]
     },
     "execution_count": 9,
     "metadata": {},
     "output_type": "execute_result"
    }
   ],
   "source": [
    "np.ones((2,5))"
   ]
  },
  {
   "cell_type": "code",
   "execution_count": 10,
   "id": "213e19aa",
   "metadata": {},
   "outputs": [],
   "source": [
    "np.random.seed(50)\n",
    "arr1 = np.random.randint(1,100,50)"
   ]
  },
  {
   "cell_type": "code",
   "execution_count": 11,
   "id": "033f6d3f",
   "metadata": {},
   "outputs": [
    {
     "data": {
      "text/plain": [
       "array([49, 97, 12, 34, 95,  5, 71, 71, 23,  6,  3, 96, 72, 69, 79, 36, 93,\n",
       "       92, 27, 91,  7, 21, 44, 32, 50, 86, 42, 65,  7, 20,  3, 80, 31, 36,\n",
       "       27, 61, 67, 77, 97, 68,  3, 11, 52,  1, 94, 94, 95,  1, 12, 31])"
      ]
     },
     "execution_count": 11,
     "metadata": {},
     "output_type": "execute_result"
    }
   ],
   "source": [
    "arr1"
   ]
  },
  {
   "cell_type": "code",
   "execution_count": 12,
   "id": "01fadeac",
   "metadata": {},
   "outputs": [
    {
     "data": {
      "text/plain": [
       "array([698, 490, 917, 119, 299, 142,  80, 239,  80, 288, 759, 143, 268,\n",
       "       105, 260,  81, 377, 462, 984, 173, 870, 613, 164, 228, 144, 414,\n",
       "       821, 809, 571, 351, 116, 947, 330, 517, 528, 157, 652,  89, 424,\n",
       "       115, 429, 509,  36, 582, 381, 844, 982, 845, 140, 788])"
      ]
     },
     "execution_count": 12,
     "metadata": {},
     "output_type": "execute_result"
    }
   ],
   "source": [
    "np.random.seed(50)\n",
    "arr2 = np.random.randint(10,1000,50)\n",
    "arr2"
   ]
  },
  {
   "cell_type": "code",
   "execution_count": 13,
   "id": "adbb2a3e",
   "metadata": {},
   "outputs": [
    {
     "data": {
      "text/plain": [
       "array([[49, 97, 12, 34, 95],\n",
       "       [ 5, 71, 71, 23,  6],\n",
       "       [ 3, 96, 72, 69, 79],\n",
       "       [36, 93, 92, 27, 91],\n",
       "       [ 7, 21, 44, 32, 50],\n",
       "       [86, 42, 65,  7, 20],\n",
       "       [ 3, 80, 31, 36, 27],\n",
       "       [61, 67, 77, 97, 68],\n",
       "       [ 3, 11, 52,  1, 94],\n",
       "       [94, 95,  1, 12, 31]])"
      ]
     },
     "execution_count": 13,
     "metadata": {},
     "output_type": "execute_result"
    }
   ],
   "source": [
    "arr1.reshape(10,5)"
   ]
  },
  {
   "cell_type": "code",
   "execution_count": 14,
   "id": "3512abd1",
   "metadata": {},
   "outputs": [
    {
     "data": {
      "text/plain": [
       "array([[698, 490, 917, 119, 299, 142,  80, 239,  80, 288],\n",
       "       [759, 143, 268, 105, 260,  81, 377, 462, 984, 173],\n",
       "       [870, 613, 164, 228, 144, 414, 821, 809, 571, 351],\n",
       "       [116, 947, 330, 517, 528, 157, 652,  89, 424, 115],\n",
       "       [429, 509,  36, 582, 381, 844, 982, 845, 140, 788]])"
      ]
     },
     "execution_count": 14,
     "metadata": {},
     "output_type": "execute_result"
    }
   ],
   "source": [
    "arr2.reshape(5,10)"
   ]
  },
  {
   "cell_type": "code",
   "execution_count": 15,
   "id": "0fc6ad26",
   "metadata": {},
   "outputs": [],
   "source": [
    "arr3 = np.random.randint(0,1000,50).reshape(10,5)"
   ]
  },
  {
   "cell_type": "code",
   "execution_count": 16,
   "id": "ef5d8d4a",
   "metadata": {},
   "outputs": [
    {
     "data": {
      "text/plain": [
       "array([[622, 947,   0,  93, 221],\n",
       "       [606,   0, 139, 926, 666],\n",
       "       [583,  51, 156, 152,  91],\n",
       "       [174,  62, 909, 711, 548],\n",
       "       [740, 128, 186, 811, 704],\n",
       "       [403, 826,  45, 211, 385],\n",
       "       [701, 777, 797, 308, 427],\n",
       "       [101, 343, 288, 787, 559],\n",
       "       [509, 197,  92, 774, 833],\n",
       "       [164, 340,  36, 300, 309]])"
      ]
     },
     "execution_count": 16,
     "metadata": {},
     "output_type": "execute_result"
    }
   ],
   "source": [
    "arr3"
   ]
  },
  {
   "cell_type": "code",
   "execution_count": 17,
   "id": "e724949b",
   "metadata": {},
   "outputs": [
    {
     "data": {
      "text/plain": [
       "97"
      ]
     },
     "execution_count": 17,
     "metadata": {},
     "output_type": "execute_result"
    }
   ],
   "source": [
    "arr1.max()"
   ]
  },
  {
   "cell_type": "code",
   "execution_count": 18,
   "id": "d2210fef",
   "metadata": {},
   "outputs": [
    {
     "data": {
      "text/plain": [
       "1"
      ]
     },
     "execution_count": 18,
     "metadata": {},
     "output_type": "execute_result"
    }
   ],
   "source": [
    "arr1.min()"
   ]
  },
  {
   "cell_type": "code",
   "execution_count": 19,
   "id": "59fb6f74",
   "metadata": {},
   "outputs": [
    {
     "data": {
      "text/plain": [
       "48.72"
      ]
     },
     "execution_count": 19,
     "metadata": {},
     "output_type": "execute_result"
    }
   ],
   "source": [
    "arr1.mean()"
   ]
  },
  {
   "cell_type": "code",
   "execution_count": 20,
   "id": "adc9d787",
   "metadata": {},
   "outputs": [
    {
     "data": {
      "text/plain": [
       "43"
      ]
     },
     "execution_count": 20,
     "metadata": {},
     "output_type": "execute_result"
    }
   ],
   "source": [
    "arr1.argmin()"
   ]
  },
  {
   "cell_type": "code",
   "execution_count": 21,
   "id": "4690b26b",
   "metadata": {},
   "outputs": [
    {
     "data": {
      "text/plain": [
       "1"
      ]
     },
     "execution_count": 21,
     "metadata": {},
     "output_type": "execute_result"
    }
   ],
   "source": [
    "arr1.argmax()"
   ]
  },
  {
   "cell_type": "code",
   "execution_count": 22,
   "id": "40da4349",
   "metadata": {},
   "outputs": [
    {
     "data": {
      "text/plain": [
       "(50,)"
      ]
     },
     "execution_count": 22,
     "metadata": {},
     "output_type": "execute_result"
    }
   ],
   "source": [
    "arr1.shape"
   ]
  },
  {
   "cell_type": "code",
   "execution_count": 23,
   "id": "3e255284",
   "metadata": {},
   "outputs": [
    {
     "data": {
      "text/plain": [
       "(10, 5)"
      ]
     },
     "execution_count": 23,
     "metadata": {},
     "output_type": "execute_result"
    }
   ],
   "source": [
    "arr3.shape"
   ]
  },
  {
   "cell_type": "code",
   "execution_count": 24,
   "id": "506f06b8",
   "metadata": {},
   "outputs": [
    {
     "data": {
      "text/plain": [
       "array([583,  51, 156, 152,  91])"
      ]
     },
     "execution_count": 24,
     "metadata": {},
     "output_type": "execute_result"
    }
   ],
   "source": [
    "arr3[2,:]"
   ]
  },
  {
   "cell_type": "code",
   "execution_count": 25,
   "id": "929b1812",
   "metadata": {},
   "outputs": [
    {
     "data": {
      "text/plain": [
       "array([221, 666,  91, 548, 704, 385, 427, 559, 833, 309])"
      ]
     },
     "execution_count": 25,
     "metadata": {},
     "output_type": "execute_result"
    }
   ],
   "source": [
    "arr3[:,4]"
   ]
  },
  {
   "cell_type": "code",
   "execution_count": 26,
   "id": "a8132eb1",
   "metadata": {},
   "outputs": [
    {
     "data": {
      "text/plain": [
       "array([[622, 947,   0,  93, 221],\n",
       "       [606,   0, 139, 926, 666],\n",
       "       [583,  51, 156, 152,  91],\n",
       "       [174,  62, 909, 711, 548],\n",
       "       [740, 128, 186, 811, 704]])"
      ]
     },
     "execution_count": 26,
     "metadata": {},
     "output_type": "execute_result"
    }
   ],
   "source": [
    "arr3[0:5,0:5]"
   ]
  },
  {
   "cell_type": "code",
   "execution_count": 27,
   "id": "17858b49",
   "metadata": {},
   "outputs": [
    {
     "data": {
      "text/plain": [
       "array([[  1,   1,   1,   1,   1],\n",
       "       [  1,   1,   1,   1,   1],\n",
       "       [  1,   1,   1,   1,   1],\n",
       "       [  1,   1,   1,   1,   1],\n",
       "       [  1,   1,   1,   1,   1],\n",
       "       [403, 826,  45, 211, 385],\n",
       "       [701, 777, 797, 308, 427],\n",
       "       [101, 343, 288, 787, 559],\n",
       "       [509, 197,  92, 774, 833],\n",
       "       [164, 340,  36, 300, 309]])"
      ]
     },
     "execution_count": 27,
     "metadata": {},
     "output_type": "execute_result"
    }
   ],
   "source": [
    "arr3[0:5,0:5]=1\n",
    "arr3"
   ]
  },
  {
   "cell_type": "code",
   "execution_count": 28,
   "id": "8baf7010",
   "metadata": {},
   "outputs": [
    {
     "data": {
      "text/plain": [
       "array([[  1,   1,   1,   1,   1],\n",
       "       [  1,   1,   1,   1,   1],\n",
       "       [  1,   1,   1,   1,   1],\n",
       "       [  1,   1,   1,   1,   1],\n",
       "       [  1,   1,   1,   1,   1],\n",
       "       [403, 826,  45, 211, 385],\n",
       "       [701, 777, 797, 308, 427],\n",
       "       [101, 343, 288, 787, 559],\n",
       "       [509, 197,  92, 774, 833],\n",
       "       [164, 340,  36, 300, 309]])"
      ]
     },
     "execution_count": 28,
     "metadata": {},
     "output_type": "execute_result"
    }
   ],
   "source": [
    "arr5 = arr3.copy()\n",
    "arr5"
   ]
  },
  {
   "cell_type": "code",
   "execution_count": null,
   "id": "084c0c4c",
   "metadata": {},
   "outputs": [],
   "source": []
  },
  {
   "cell_type": "code",
   "execution_count": null,
   "id": "4f748baa",
   "metadata": {},
   "outputs": [],
   "source": []
  }
 ],
 "metadata": {
  "kernelspec": {
   "display_name": "Python 3 (ipykernel)",
   "language": "python",
   "name": "python3"
  },
  "language_info": {
   "codemirror_mode": {
    "name": "ipython",
    "version": 3
   },
   "file_extension": ".py",
   "mimetype": "text/x-python",
   "name": "python",
   "nbconvert_exporter": "python",
   "pygments_lexer": "ipython3",
   "version": "3.11.5"
  }
 },
 "nbformat": 4,
 "nbformat_minor": 5
}
